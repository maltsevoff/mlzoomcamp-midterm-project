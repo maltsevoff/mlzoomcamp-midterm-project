{
 "cells": [
  {
   "cell_type": "code",
   "execution_count": 174,
   "id": "29e51403",
   "metadata": {},
   "outputs": [],
   "source": [
    "import numpy as np\n",
    "import pandas as pd\n",
    "\n",
    "from sklearn.metrics import mutual_info_score\n",
    "from sklearn.model_selection import train_test_split\n",
    "\n",
    "import matplotlib.pyplot as plt\n",
    "import seaborn as sns"
   ]
  },
  {
   "cell_type": "code",
   "execution_count": 220,
   "id": "90fdf722",
   "metadata": {},
   "outputs": [],
   "source": [
    "df = pd.read_csv('data.csv')"
   ]
  },
  {
   "cell_type": "markdown",
   "id": "12ba718c",
   "metadata": {},
   "source": [
    "## Data preparation"
   ]
  },
  {
   "cell_type": "code",
   "execution_count": 221,
   "id": "c4573684",
   "metadata": {},
   "outputs": [],
   "source": [
    "columns_to_rename = {\n",
    "    'V1': 'age',\n",
    "    'V2': 'job',\n",
    "    'V3': 'marital',\n",
    "    'V4': 'education',\n",
    "    'V5': 'default',\n",
    "    'V6': 'balance',\n",
    "    'V7': 'housing',\n",
    "    'V8': 'loan',\n",
    "    'V9': 'contact',\n",
    "    'V10': 'day',\n",
    "    'V11': 'month',\n",
    "    'V12': 'duration',\n",
    "    'V13': 'campaing',\n",
    "    'V14': 'pdays',\n",
    "    'V15': 'previous',\n",
    "    'V16': 'poutcome',\n",
    "    'Class': 'subscribe'\n",
    "}"
   ]
  },
  {
   "cell_type": "code",
   "execution_count": 222,
   "id": "73a08b47",
   "metadata": {},
   "outputs": [
    {
     "data": {
      "text/html": [
       "<div>\n",
       "<style scoped>\n",
       "    .dataframe tbody tr th:only-of-type {\n",
       "        vertical-align: middle;\n",
       "    }\n",
       "\n",
       "    .dataframe tbody tr th {\n",
       "        vertical-align: top;\n",
       "    }\n",
       "\n",
       "    .dataframe thead th {\n",
       "        text-align: right;\n",
       "    }\n",
       "</style>\n",
       "<table border=\"1\" class=\"dataframe\">\n",
       "  <thead>\n",
       "    <tr style=\"text-align: right;\">\n",
       "      <th></th>\n",
       "      <th>age</th>\n",
       "      <th>job</th>\n",
       "      <th>marital</th>\n",
       "      <th>education</th>\n",
       "      <th>default</th>\n",
       "      <th>balance</th>\n",
       "      <th>housing</th>\n",
       "      <th>loan</th>\n",
       "      <th>contact</th>\n",
       "      <th>day</th>\n",
       "      <th>month</th>\n",
       "      <th>duration</th>\n",
       "      <th>campaing</th>\n",
       "      <th>pdays</th>\n",
       "      <th>previous</th>\n",
       "      <th>poutcome</th>\n",
       "      <th>subscribe</th>\n",
       "    </tr>\n",
       "  </thead>\n",
       "  <tbody>\n",
       "    <tr>\n",
       "      <th>0</th>\n",
       "      <td>58</td>\n",
       "      <td>management</td>\n",
       "      <td>married</td>\n",
       "      <td>tertiary</td>\n",
       "      <td>no</td>\n",
       "      <td>2143</td>\n",
       "      <td>yes</td>\n",
       "      <td>no</td>\n",
       "      <td>unknown</td>\n",
       "      <td>5</td>\n",
       "      <td>may</td>\n",
       "      <td>261</td>\n",
       "      <td>1</td>\n",
       "      <td>-1</td>\n",
       "      <td>0</td>\n",
       "      <td>unknown</td>\n",
       "      <td>1</td>\n",
       "    </tr>\n",
       "    <tr>\n",
       "      <th>1</th>\n",
       "      <td>44</td>\n",
       "      <td>technician</td>\n",
       "      <td>single</td>\n",
       "      <td>secondary</td>\n",
       "      <td>no</td>\n",
       "      <td>29</td>\n",
       "      <td>yes</td>\n",
       "      <td>no</td>\n",
       "      <td>unknown</td>\n",
       "      <td>5</td>\n",
       "      <td>may</td>\n",
       "      <td>151</td>\n",
       "      <td>1</td>\n",
       "      <td>-1</td>\n",
       "      <td>0</td>\n",
       "      <td>unknown</td>\n",
       "      <td>1</td>\n",
       "    </tr>\n",
       "    <tr>\n",
       "      <th>2</th>\n",
       "      <td>33</td>\n",
       "      <td>entrepreneur</td>\n",
       "      <td>married</td>\n",
       "      <td>secondary</td>\n",
       "      <td>no</td>\n",
       "      <td>2</td>\n",
       "      <td>yes</td>\n",
       "      <td>yes</td>\n",
       "      <td>unknown</td>\n",
       "      <td>5</td>\n",
       "      <td>may</td>\n",
       "      <td>76</td>\n",
       "      <td>1</td>\n",
       "      <td>-1</td>\n",
       "      <td>0</td>\n",
       "      <td>unknown</td>\n",
       "      <td>1</td>\n",
       "    </tr>\n",
       "    <tr>\n",
       "      <th>3</th>\n",
       "      <td>47</td>\n",
       "      <td>blue-collar</td>\n",
       "      <td>married</td>\n",
       "      <td>unknown</td>\n",
       "      <td>no</td>\n",
       "      <td>1506</td>\n",
       "      <td>yes</td>\n",
       "      <td>no</td>\n",
       "      <td>unknown</td>\n",
       "      <td>5</td>\n",
       "      <td>may</td>\n",
       "      <td>92</td>\n",
       "      <td>1</td>\n",
       "      <td>-1</td>\n",
       "      <td>0</td>\n",
       "      <td>unknown</td>\n",
       "      <td>1</td>\n",
       "    </tr>\n",
       "    <tr>\n",
       "      <th>4</th>\n",
       "      <td>33</td>\n",
       "      <td>unknown</td>\n",
       "      <td>single</td>\n",
       "      <td>unknown</td>\n",
       "      <td>no</td>\n",
       "      <td>1</td>\n",
       "      <td>no</td>\n",
       "      <td>no</td>\n",
       "      <td>unknown</td>\n",
       "      <td>5</td>\n",
       "      <td>may</td>\n",
       "      <td>198</td>\n",
       "      <td>1</td>\n",
       "      <td>-1</td>\n",
       "      <td>0</td>\n",
       "      <td>unknown</td>\n",
       "      <td>1</td>\n",
       "    </tr>\n",
       "    <tr>\n",
       "      <th>...</th>\n",
       "      <td>...</td>\n",
       "      <td>...</td>\n",
       "      <td>...</td>\n",
       "      <td>...</td>\n",
       "      <td>...</td>\n",
       "      <td>...</td>\n",
       "      <td>...</td>\n",
       "      <td>...</td>\n",
       "      <td>...</td>\n",
       "      <td>...</td>\n",
       "      <td>...</td>\n",
       "      <td>...</td>\n",
       "      <td>...</td>\n",
       "      <td>...</td>\n",
       "      <td>...</td>\n",
       "      <td>...</td>\n",
       "      <td>...</td>\n",
       "    </tr>\n",
       "    <tr>\n",
       "      <th>45206</th>\n",
       "      <td>51</td>\n",
       "      <td>technician</td>\n",
       "      <td>married</td>\n",
       "      <td>tertiary</td>\n",
       "      <td>no</td>\n",
       "      <td>825</td>\n",
       "      <td>no</td>\n",
       "      <td>no</td>\n",
       "      <td>cellular</td>\n",
       "      <td>17</td>\n",
       "      <td>nov</td>\n",
       "      <td>977</td>\n",
       "      <td>3</td>\n",
       "      <td>-1</td>\n",
       "      <td>0</td>\n",
       "      <td>unknown</td>\n",
       "      <td>2</td>\n",
       "    </tr>\n",
       "    <tr>\n",
       "      <th>45207</th>\n",
       "      <td>71</td>\n",
       "      <td>retired</td>\n",
       "      <td>divorced</td>\n",
       "      <td>primary</td>\n",
       "      <td>no</td>\n",
       "      <td>1729</td>\n",
       "      <td>no</td>\n",
       "      <td>no</td>\n",
       "      <td>cellular</td>\n",
       "      <td>17</td>\n",
       "      <td>nov</td>\n",
       "      <td>456</td>\n",
       "      <td>2</td>\n",
       "      <td>-1</td>\n",
       "      <td>0</td>\n",
       "      <td>unknown</td>\n",
       "      <td>2</td>\n",
       "    </tr>\n",
       "    <tr>\n",
       "      <th>45208</th>\n",
       "      <td>72</td>\n",
       "      <td>retired</td>\n",
       "      <td>married</td>\n",
       "      <td>secondary</td>\n",
       "      <td>no</td>\n",
       "      <td>5715</td>\n",
       "      <td>no</td>\n",
       "      <td>no</td>\n",
       "      <td>cellular</td>\n",
       "      <td>17</td>\n",
       "      <td>nov</td>\n",
       "      <td>1127</td>\n",
       "      <td>5</td>\n",
       "      <td>184</td>\n",
       "      <td>3</td>\n",
       "      <td>success</td>\n",
       "      <td>2</td>\n",
       "    </tr>\n",
       "    <tr>\n",
       "      <th>45209</th>\n",
       "      <td>57</td>\n",
       "      <td>blue-collar</td>\n",
       "      <td>married</td>\n",
       "      <td>secondary</td>\n",
       "      <td>no</td>\n",
       "      <td>668</td>\n",
       "      <td>no</td>\n",
       "      <td>no</td>\n",
       "      <td>telephone</td>\n",
       "      <td>17</td>\n",
       "      <td>nov</td>\n",
       "      <td>508</td>\n",
       "      <td>4</td>\n",
       "      <td>-1</td>\n",
       "      <td>0</td>\n",
       "      <td>unknown</td>\n",
       "      <td>1</td>\n",
       "    </tr>\n",
       "    <tr>\n",
       "      <th>45210</th>\n",
       "      <td>37</td>\n",
       "      <td>entrepreneur</td>\n",
       "      <td>married</td>\n",
       "      <td>secondary</td>\n",
       "      <td>no</td>\n",
       "      <td>2971</td>\n",
       "      <td>no</td>\n",
       "      <td>no</td>\n",
       "      <td>cellular</td>\n",
       "      <td>17</td>\n",
       "      <td>nov</td>\n",
       "      <td>361</td>\n",
       "      <td>2</td>\n",
       "      <td>188</td>\n",
       "      <td>11</td>\n",
       "      <td>other</td>\n",
       "      <td>1</td>\n",
       "    </tr>\n",
       "  </tbody>\n",
       "</table>\n",
       "<p>45211 rows × 17 columns</p>\n",
       "</div>"
      ],
      "text/plain": [
       "       age           job   marital  education default  balance housing loan  \\\n",
       "0       58    management   married   tertiary      no     2143     yes   no   \n",
       "1       44    technician    single  secondary      no       29     yes   no   \n",
       "2       33  entrepreneur   married  secondary      no        2     yes  yes   \n",
       "3       47   blue-collar   married    unknown      no     1506     yes   no   \n",
       "4       33       unknown    single    unknown      no        1      no   no   \n",
       "...    ...           ...       ...        ...     ...      ...     ...  ...   \n",
       "45206   51    technician   married   tertiary      no      825      no   no   \n",
       "45207   71       retired  divorced    primary      no     1729      no   no   \n",
       "45208   72       retired   married  secondary      no     5715      no   no   \n",
       "45209   57   blue-collar   married  secondary      no      668      no   no   \n",
       "45210   37  entrepreneur   married  secondary      no     2971      no   no   \n",
       "\n",
       "         contact  day month  duration  campaing  pdays  previous poutcome  \\\n",
       "0        unknown    5   may       261         1     -1         0  unknown   \n",
       "1        unknown    5   may       151         1     -1         0  unknown   \n",
       "2        unknown    5   may        76         1     -1         0  unknown   \n",
       "3        unknown    5   may        92         1     -1         0  unknown   \n",
       "4        unknown    5   may       198         1     -1         0  unknown   \n",
       "...          ...  ...   ...       ...       ...    ...       ...      ...   \n",
       "45206   cellular   17   nov       977         3     -1         0  unknown   \n",
       "45207   cellular   17   nov       456         2     -1         0  unknown   \n",
       "45208   cellular   17   nov      1127         5    184         3  success   \n",
       "45209  telephone   17   nov       508         4     -1         0  unknown   \n",
       "45210   cellular   17   nov       361         2    188        11    other   \n",
       "\n",
       "       subscribe  \n",
       "0              1  \n",
       "1              1  \n",
       "2              1  \n",
       "3              1  \n",
       "4              1  \n",
       "...          ...  \n",
       "45206          2  \n",
       "45207          2  \n",
       "45208          2  \n",
       "45209          1  \n",
       "45210          1  \n",
       "\n",
       "[45211 rows x 17 columns]"
      ]
     },
     "execution_count": 222,
     "metadata": {},
     "output_type": "execute_result"
    }
   ],
   "source": [
    "df = df.rename(columns=columns_to_rename)\n",
    "df"
   ]
  },
  {
   "cell_type": "code",
   "execution_count": 223,
   "id": "d32820a9",
   "metadata": {},
   "outputs": [],
   "source": [
    "df.subscribe = df.subscribe - 1"
   ]
  },
  {
   "cell_type": "code",
   "execution_count": 224,
   "id": "43025c88",
   "metadata": {},
   "outputs": [
    {
     "data": {
      "text/plain": [
       "0    39922\n",
       "1     5289\n",
       "Name: subscribe, dtype: int64"
      ]
     },
     "execution_count": 224,
     "metadata": {},
     "output_type": "execute_result"
    }
   ],
   "source": [
    "df.subscribe.value_counts()"
   ]
  },
  {
   "cell_type": "code",
   "execution_count": 290,
   "id": "73adb970",
   "metadata": {},
   "outputs": [
    {
     "data": {
      "text/plain": [
       "0    0.883015\n",
       "1    0.116985\n",
       "Name: subscribe, dtype: float64"
      ]
     },
     "execution_count": 290,
     "metadata": {},
     "output_type": "execute_result"
    }
   ],
   "source": [
    "df.subscribe.value_counts(normalize=True)"
   ]
  },
  {
   "cell_type": "markdown",
   "id": "23f35e93",
   "metadata": {},
   "source": [
    "We see that we have an imbalance of target value in the dataset."
   ]
  },
  {
   "cell_type": "markdown",
   "id": "433f61d3",
   "metadata": {},
   "source": [
    "## Setting up the validation framework"
   ]
  },
  {
   "cell_type": "code",
   "execution_count": 225,
   "id": "4bd0fd65",
   "metadata": {},
   "outputs": [],
   "source": [
    "df_full_train, df_test = train_test_split(df, test_size=0.2, random_state=1)\n",
    "df_train, df_val = train_test_split(df_full_train, test_size=0.25, random_state=1)"
   ]
  },
  {
   "cell_type": "code",
   "execution_count": 226,
   "id": "2cfe2c10",
   "metadata": {},
   "outputs": [
    {
     "data": {
      "text/plain": [
       "(27126, 9042, 9043)"
      ]
     },
     "execution_count": 226,
     "metadata": {},
     "output_type": "execute_result"
    }
   ],
   "source": [
    "len(df_train), len(df_val), len(df_test)"
   ]
  },
  {
   "cell_type": "code",
   "execution_count": 227,
   "id": "e28854df",
   "metadata": {},
   "outputs": [],
   "source": [
    "df_train = df_train.reset_index(drop=True).copy()\n",
    "df_val = df_val.reset_index(drop=True).copy()\n",
    "df_test = df_test.reset_index(drop=True).copy()"
   ]
  },
  {
   "cell_type": "code",
   "execution_count": 228,
   "id": "d44babc2",
   "metadata": {},
   "outputs": [],
   "source": [
    "y_train = df_train.subscribe.values\n",
    "y_val = df_val.subscribe.values\n",
    "y_test = df_test.subscribe.values\n",
    "\n",
    "del df_train['subscribe']\n",
    "del df_val['subscribe']\n",
    "del df_test['subscribe']"
   ]
  },
  {
   "cell_type": "markdown",
   "id": "1c4a3274",
   "metadata": {},
   "source": [
    "## EDA"
   ]
  },
  {
   "cell_type": "code",
   "execution_count": 229,
   "id": "4e86542e",
   "metadata": {},
   "outputs": [
    {
     "data": {
      "text/plain": [
       "2"
      ]
     },
     "execution_count": 229,
     "metadata": {},
     "output_type": "execute_result"
    }
   ],
   "source": [
    "df_full_train.subscribe.nunique()"
   ]
  },
  {
   "cell_type": "code",
   "execution_count": 230,
   "id": "8200abca",
   "metadata": {},
   "outputs": [
    {
     "data": {
      "text/plain": [
       "['job',\n",
       " 'marital',\n",
       " 'education',\n",
       " 'default',\n",
       " 'housing',\n",
       " 'loan',\n",
       " 'contact',\n",
       " 'month',\n",
       " 'poutcome']"
      ]
     },
     "execution_count": 230,
     "metadata": {},
     "output_type": "execute_result"
    }
   ],
   "source": [
    "categorical = list(df_full_train.columns[df.dtypes == 'object'])\n",
    "categorical"
   ]
  },
  {
   "cell_type": "code",
   "execution_count": 239,
   "id": "09e37c8d",
   "metadata": {},
   "outputs": [
    {
     "data": {
      "text/plain": [
       "['age',\n",
       " 'balance',\n",
       " 'day',\n",
       " 'duration',\n",
       " 'campaing',\n",
       " 'pdays',\n",
       " 'previous',\n",
       " 'subscribe']"
      ]
     },
     "execution_count": 239,
     "metadata": {},
     "output_type": "execute_result"
    }
   ],
   "source": [
    "numerical = list(df_full_train.columns[df.dtypes != 'object'])\n",
    "numerical"
   ]
  },
  {
   "cell_type": "markdown",
   "id": "8d00f887",
   "metadata": {},
   "source": [
    "## Check for missing values"
   ]
  },
  {
   "cell_type": "markdown",
   "id": "c7ce611b",
   "metadata": {},
   "source": [
    "Our dataset has no missing values. It's great!"
   ]
  },
  {
   "cell_type": "code",
   "execution_count": 232,
   "id": "a188f01b",
   "metadata": {},
   "outputs": [
    {
     "data": {
      "text/plain": [
       "age          0\n",
       "job          0\n",
       "marital      0\n",
       "education    0\n",
       "default      0\n",
       "balance      0\n",
       "housing      0\n",
       "loan         0\n",
       "contact      0\n",
       "day          0\n",
       "month        0\n",
       "duration     0\n",
       "campaing     0\n",
       "pdays        0\n",
       "previous     0\n",
       "poutcome     0\n",
       "subscribe    0\n",
       "dtype: int64"
      ]
     },
     "execution_count": 232,
     "metadata": {},
     "output_type": "execute_result"
    }
   ],
   "source": [
    "df.isnull().sum()"
   ]
  },
  {
   "cell_type": "code",
   "execution_count": 233,
   "id": "b109e26d",
   "metadata": {},
   "outputs": [
    {
     "data": {
      "text/plain": [
       "job          12\n",
       "marital       3\n",
       "education     4\n",
       "default       2\n",
       "housing       2\n",
       "loan          2\n",
       "contact       3\n",
       "month        12\n",
       "poutcome      4\n",
       "dtype: int64"
      ]
     },
     "execution_count": 233,
     "metadata": {},
     "output_type": "execute_result"
    }
   ],
   "source": [
    "df_full_train[categorical].nunique()"
   ]
  },
  {
   "cell_type": "markdown",
   "id": "6dbc57d7",
   "metadata": {},
   "source": [
    "## Feature importance"
   ]
  },
  {
   "cell_type": "markdown",
   "id": "c435d20a",
   "metadata": {},
   "source": [
    "This is check for mutuale info of categorical values to define their importance"
   ]
  },
  {
   "cell_type": "code",
   "execution_count": 114,
   "id": "0918dd44",
   "metadata": {},
   "outputs": [],
   "source": [
    "def mutual_info_subscibe_score(series):\n",
    "    return mutual_info_score(series, df_full_train.subscribe)"
   ]
  },
  {
   "cell_type": "code",
   "execution_count": 115,
   "id": "c8fb82cb",
   "metadata": {},
   "outputs": [
    {
     "data": {
      "text/plain": [
       "poutcome     0.028893\n",
       "month        0.024718\n",
       "contact      0.013041\n",
       "job          0.008437\n",
       "education    0.002564\n",
       "marital      0.001980\n",
       "dtype: float64"
      ]
     },
     "execution_count": 115,
     "metadata": {},
     "output_type": "execute_result"
    }
   ],
   "source": [
    "mi = df_full_train[categorical].apply(mutual_info_subscibe_score)\n",
    "mi.sort_values(ascending=False)"
   ]
  },
  {
   "cell_type": "code",
   "execution_count": 148,
   "id": "799394da",
   "metadata": {},
   "outputs": [
    {
     "data": {
      "text/plain": [
       "0.07746548813188996"
      ]
     },
     "execution_count": 148,
     "metadata": {},
     "output_type": "execute_result"
    }
   ],
   "source": [
    "subscribe_housing_loan = df_full_train[df_full_train.housing == 1].subscribe.mean()\n",
    "subscribe_housing_loan"
   ]
  },
  {
   "cell_type": "code",
   "execution_count": 149,
   "id": "f1aba7fb",
   "metadata": {},
   "outputs": [
    {
     "data": {
      "text/plain": [
       "0.06671299513551077"
      ]
     },
     "execution_count": 149,
     "metadata": {},
     "output_type": "execute_result"
    }
   ],
   "source": [
    "subscribe_personal_loan = df_full_train[df_full_train.loan == 1].subscribe.mean()\n",
    "subscribe_personal_loan"
   ]
  },
  {
   "cell_type": "code",
   "execution_count": 159,
   "id": "97c74ebc",
   "metadata": {},
   "outputs": [
    {
     "data": {
      "text/plain": [
       "0.11720305242203052"
      ]
     },
     "execution_count": 159,
     "metadata": {},
     "output_type": "execute_result"
    }
   ],
   "source": [
    "global_subscribe = df_full_train.subscribe.mean()\n",
    "global_subscibe"
   ]
  },
  {
   "cell_type": "markdown",
   "id": "584d3a11",
   "metadata": {},
   "source": [
    "Checking for subscibe rate for people with housing loan and with personal loans."
   ]
  },
  {
   "cell_type": "code",
   "execution_count": 160,
   "id": "2cc02991",
   "metadata": {},
   "outputs": [
    {
     "data": {
      "text/plain": [
       "0.03973756429014057"
      ]
     },
     "execution_count": 160,
     "metadata": {},
     "output_type": "execute_result"
    }
   ],
   "source": [
    "global_subscribe - subscibe_housing_loan"
   ]
  },
  {
   "cell_type": "code",
   "execution_count": 161,
   "id": "a40e6acd",
   "metadata": {},
   "outputs": [
    {
     "data": {
      "text/plain": [
       "0.05049005728651976"
      ]
     },
     "execution_count": 161,
     "metadata": {},
     "output_type": "execute_result"
    }
   ],
   "source": [
    "global_subscribe - subscibe_personal_loan"
   ]
  },
  {
   "cell_type": "markdown",
   "id": "f7ad1aad",
   "metadata": {},
   "source": [
    "As we see loans have small affection."
   ]
  },
  {
   "cell_type": "markdown",
   "id": "7497af96",
   "metadata": {},
   "source": [
    "Checking for min max values for numerical values. (also hear we have some binary values)"
   ]
  },
  {
   "cell_type": "code",
   "execution_count": 158,
   "id": "6b482f5e",
   "metadata": {},
   "outputs": [
    {
     "name": "stdout",
     "output_type": "stream",
     "text": [
      "age 18 95\n",
      "default 0 1\n",
      "balance -6847 102127\n",
      "housing 0 1\n",
      "loan 0 1\n",
      "day 1 31\n",
      "duration 0 4918\n",
      "campaing 1 63\n",
      "pdays -1 871\n",
      "previous 0 275\n",
      "subscribe 0 1\n"
     ]
    }
   ],
   "source": [
    "for n in numerical: \n",
    "    print(n, df_full_train[n].min(), df_full_train[n].max())"
   ]
  },
  {
   "cell_type": "code",
   "execution_count": 168,
   "id": "83d454b7",
   "metadata": {},
   "outputs": [
    {
     "data": {
      "text/plain": [
       "0.05393634840871022"
      ]
     },
     "execution_count": 168,
     "metadata": {},
     "output_type": "execute_result"
    }
   ],
   "source": [
    "subscribe_negative_balance = df_full_train[df_full_train.balance < 0].subscribe.mean()\n",
    "subscribe_negative_balance"
   ]
  },
  {
   "cell_type": "code",
   "execution_count": 171,
   "id": "b87c6726",
   "metadata": {},
   "outputs": [
    {
     "data": {
      "text/plain": [
       "0.11720305242203052"
      ]
     },
     "execution_count": 171,
     "metadata": {},
     "output_type": "execute_result"
    }
   ],
   "source": [
    "subscribe_positive_balance = df_full_train[df_full_train.subscribe >= 0].subscribe.mean()\n",
    "subscribe_positive_balance"
   ]
  },
  {
   "cell_type": "markdown",
   "id": "6f072698",
   "metadata": {},
   "source": [
    "As we see people with positive average yearly balance more likely to subscibe."
   ]
  },
  {
   "cell_type": "code",
   "execution_count": 162,
   "id": "d7e22cc6",
   "metadata": {},
   "outputs": [],
   "source": [
    "from IPython.display import display"
   ]
  },
  {
   "cell_type": "code",
   "execution_count": 164,
   "id": "8dbd736b",
   "metadata": {},
   "outputs": [
    {
     "name": "stdout",
     "output_type": "stream",
     "text": [
      "job\n"
     ]
    },
    {
     "data": {
      "text/html": [
       "<div>\n",
       "<style scoped>\n",
       "    .dataframe tbody tr th:only-of-type {\n",
       "        vertical-align: middle;\n",
       "    }\n",
       "\n",
       "    .dataframe tbody tr th {\n",
       "        vertical-align: top;\n",
       "    }\n",
       "\n",
       "    .dataframe thead th {\n",
       "        text-align: right;\n",
       "    }\n",
       "</style>\n",
       "<table border=\"1\" class=\"dataframe\">\n",
       "  <thead>\n",
       "    <tr style=\"text-align: right;\">\n",
       "      <th></th>\n",
       "      <th>mean</th>\n",
       "      <th>count</th>\n",
       "      <th>diff</th>\n",
       "      <th>risk</th>\n",
       "    </tr>\n",
       "    <tr>\n",
       "      <th>job</th>\n",
       "      <th></th>\n",
       "      <th></th>\n",
       "      <th></th>\n",
       "      <th></th>\n",
       "    </tr>\n",
       "  </thead>\n",
       "  <tbody>\n",
       "    <tr>\n",
       "      <th>admin.</th>\n",
       "      <td>0.122395</td>\n",
       "      <td>4175</td>\n",
       "      <td>0.005192</td>\n",
       "      <td>1.044301</td>\n",
       "    </tr>\n",
       "    <tr>\n",
       "      <th>blue-collar</th>\n",
       "      <td>0.073414</td>\n",
       "      <td>7805</td>\n",
       "      <td>-0.043789</td>\n",
       "      <td>0.626387</td>\n",
       "    </tr>\n",
       "    <tr>\n",
       "      <th>entrepreneur</th>\n",
       "      <td>0.082569</td>\n",
       "      <td>1199</td>\n",
       "      <td>-0.034634</td>\n",
       "      <td>0.704494</td>\n",
       "    </tr>\n",
       "    <tr>\n",
       "      <th>housemaid</th>\n",
       "      <td>0.090631</td>\n",
       "      <td>982</td>\n",
       "      <td>-0.026572</td>\n",
       "      <td>0.773285</td>\n",
       "    </tr>\n",
       "    <tr>\n",
       "      <th>management</th>\n",
       "      <td>0.138675</td>\n",
       "      <td>7550</td>\n",
       "      <td>0.021472</td>\n",
       "      <td>1.183207</td>\n",
       "    </tr>\n",
       "    <tr>\n",
       "      <th>retired</th>\n",
       "      <td>0.231323</td>\n",
       "      <td>1807</td>\n",
       "      <td>0.114120</td>\n",
       "      <td>1.973691</td>\n",
       "    </tr>\n",
       "    <tr>\n",
       "      <th>self-employed</th>\n",
       "      <td>0.112631</td>\n",
       "      <td>1243</td>\n",
       "      <td>-0.004572</td>\n",
       "      <td>0.960988</td>\n",
       "    </tr>\n",
       "    <tr>\n",
       "      <th>services</th>\n",
       "      <td>0.090122</td>\n",
       "      <td>3351</td>\n",
       "      <td>-0.027081</td>\n",
       "      <td>0.768942</td>\n",
       "    </tr>\n",
       "    <tr>\n",
       "      <th>student</th>\n",
       "      <td>0.291611</td>\n",
       "      <td>751</td>\n",
       "      <td>0.174408</td>\n",
       "      <td>2.488085</td>\n",
       "    </tr>\n",
       "    <tr>\n",
       "      <th>technician</th>\n",
       "      <td>0.108653</td>\n",
       "      <td>6056</td>\n",
       "      <td>-0.008550</td>\n",
       "      <td>0.927046</td>\n",
       "    </tr>\n",
       "    <tr>\n",
       "      <th>unemployed</th>\n",
       "      <td>0.152642</td>\n",
       "      <td>1022</td>\n",
       "      <td>0.035439</td>\n",
       "      <td>1.302371</td>\n",
       "    </tr>\n",
       "    <tr>\n",
       "      <th>unknown</th>\n",
       "      <td>0.118943</td>\n",
       "      <td>227</td>\n",
       "      <td>0.001740</td>\n",
       "      <td>1.014843</td>\n",
       "    </tr>\n",
       "  </tbody>\n",
       "</table>\n",
       "</div>"
      ],
      "text/plain": [
       "                   mean  count      diff      risk\n",
       "job                                               \n",
       "admin.         0.122395   4175  0.005192  1.044301\n",
       "blue-collar    0.073414   7805 -0.043789  0.626387\n",
       "entrepreneur   0.082569   1199 -0.034634  0.704494\n",
       "housemaid      0.090631    982 -0.026572  0.773285\n",
       "management     0.138675   7550  0.021472  1.183207\n",
       "retired        0.231323   1807  0.114120  1.973691\n",
       "self-employed  0.112631   1243 -0.004572  0.960988\n",
       "services       0.090122   3351 -0.027081  0.768942\n",
       "student        0.291611    751  0.174408  2.488085\n",
       "technician     0.108653   6056 -0.008550  0.927046\n",
       "unemployed     0.152642   1022  0.035439  1.302371\n",
       "unknown        0.118943    227  0.001740  1.014843"
      ]
     },
     "metadata": {},
     "output_type": "display_data"
    },
    {
     "name": "stdout",
     "output_type": "stream",
     "text": [
      "\n",
      "\n",
      "marital\n"
     ]
    },
    {
     "data": {
      "text/html": [
       "<div>\n",
       "<style scoped>\n",
       "    .dataframe tbody tr th:only-of-type {\n",
       "        vertical-align: middle;\n",
       "    }\n",
       "\n",
       "    .dataframe tbody tr th {\n",
       "        vertical-align: top;\n",
       "    }\n",
       "\n",
       "    .dataframe thead th {\n",
       "        text-align: right;\n",
       "    }\n",
       "</style>\n",
       "<table border=\"1\" class=\"dataframe\">\n",
       "  <thead>\n",
       "    <tr style=\"text-align: right;\">\n",
       "      <th></th>\n",
       "      <th>mean</th>\n",
       "      <th>count</th>\n",
       "      <th>diff</th>\n",
       "      <th>risk</th>\n",
       "    </tr>\n",
       "    <tr>\n",
       "      <th>marital</th>\n",
       "      <th></th>\n",
       "      <th></th>\n",
       "      <th></th>\n",
       "      <th></th>\n",
       "    </tr>\n",
       "  </thead>\n",
       "  <tbody>\n",
       "    <tr>\n",
       "      <th>divorced</th>\n",
       "      <td>0.119242</td>\n",
       "      <td>4168</td>\n",
       "      <td>0.002039</td>\n",
       "      <td>1.017395</td>\n",
       "    </tr>\n",
       "    <tr>\n",
       "      <th>married</th>\n",
       "      <td>0.101889</td>\n",
       "      <td>21710</td>\n",
       "      <td>-0.015315</td>\n",
       "      <td>0.869333</td>\n",
       "    </tr>\n",
       "    <tr>\n",
       "      <th>single</th>\n",
       "      <td>0.148688</td>\n",
       "      <td>10290</td>\n",
       "      <td>0.031485</td>\n",
       "      <td>1.268636</td>\n",
       "    </tr>\n",
       "  </tbody>\n",
       "</table>\n",
       "</div>"
      ],
      "text/plain": [
       "              mean  count      diff      risk\n",
       "marital                                      \n",
       "divorced  0.119242   4168  0.002039  1.017395\n",
       "married   0.101889  21710 -0.015315  0.869333\n",
       "single    0.148688  10290  0.031485  1.268636"
      ]
     },
     "metadata": {},
     "output_type": "display_data"
    },
    {
     "name": "stdout",
     "output_type": "stream",
     "text": [
      "\n",
      "\n",
      "education\n"
     ]
    },
    {
     "data": {
      "text/html": [
       "<div>\n",
       "<style scoped>\n",
       "    .dataframe tbody tr th:only-of-type {\n",
       "        vertical-align: middle;\n",
       "    }\n",
       "\n",
       "    .dataframe tbody tr th {\n",
       "        vertical-align: top;\n",
       "    }\n",
       "\n",
       "    .dataframe thead th {\n",
       "        text-align: right;\n",
       "    }\n",
       "</style>\n",
       "<table border=\"1\" class=\"dataframe\">\n",
       "  <thead>\n",
       "    <tr style=\"text-align: right;\">\n",
       "      <th></th>\n",
       "      <th>mean</th>\n",
       "      <th>count</th>\n",
       "      <th>diff</th>\n",
       "      <th>risk</th>\n",
       "    </tr>\n",
       "    <tr>\n",
       "      <th>education</th>\n",
       "      <th></th>\n",
       "      <th></th>\n",
       "      <th></th>\n",
       "      <th></th>\n",
       "    </tr>\n",
       "  </thead>\n",
       "  <tbody>\n",
       "    <tr>\n",
       "      <th>primary</th>\n",
       "      <td>0.087201</td>\n",
       "      <td>5516</td>\n",
       "      <td>-0.030002</td>\n",
       "      <td>0.744015</td>\n",
       "    </tr>\n",
       "    <tr>\n",
       "      <th>secondary</th>\n",
       "      <td>0.105671</td>\n",
       "      <td>18567</td>\n",
       "      <td>-0.011532</td>\n",
       "      <td>0.901609</td>\n",
       "    </tr>\n",
       "    <tr>\n",
       "      <th>tertiary</th>\n",
       "      <td>0.150042</td>\n",
       "      <td>10617</td>\n",
       "      <td>0.032839</td>\n",
       "      <td>1.280192</td>\n",
       "    </tr>\n",
       "    <tr>\n",
       "      <th>unknown</th>\n",
       "      <td>0.138283</td>\n",
       "      <td>1468</td>\n",
       "      <td>0.021080</td>\n",
       "      <td>1.179862</td>\n",
       "    </tr>\n",
       "  </tbody>\n",
       "</table>\n",
       "</div>"
      ],
      "text/plain": [
       "               mean  count      diff      risk\n",
       "education                                     \n",
       "primary    0.087201   5516 -0.030002  0.744015\n",
       "secondary  0.105671  18567 -0.011532  0.901609\n",
       "tertiary   0.150042  10617  0.032839  1.280192\n",
       "unknown    0.138283   1468  0.021080  1.179862"
      ]
     },
     "metadata": {},
     "output_type": "display_data"
    },
    {
     "name": "stdout",
     "output_type": "stream",
     "text": [
      "\n",
      "\n",
      "contact\n"
     ]
    },
    {
     "data": {
      "text/html": [
       "<div>\n",
       "<style scoped>\n",
       "    .dataframe tbody tr th:only-of-type {\n",
       "        vertical-align: middle;\n",
       "    }\n",
       "\n",
       "    .dataframe tbody tr th {\n",
       "        vertical-align: top;\n",
       "    }\n",
       "\n",
       "    .dataframe thead th {\n",
       "        text-align: right;\n",
       "    }\n",
       "</style>\n",
       "<table border=\"1\" class=\"dataframe\">\n",
       "  <thead>\n",
       "    <tr style=\"text-align: right;\">\n",
       "      <th></th>\n",
       "      <th>mean</th>\n",
       "      <th>count</th>\n",
       "      <th>diff</th>\n",
       "      <th>risk</th>\n",
       "    </tr>\n",
       "    <tr>\n",
       "      <th>contact</th>\n",
       "      <th></th>\n",
       "      <th></th>\n",
       "      <th></th>\n",
       "      <th></th>\n",
       "    </tr>\n",
       "  </thead>\n",
       "  <tbody>\n",
       "    <tr>\n",
       "      <th>cellular</th>\n",
       "      <td>0.148521</td>\n",
       "      <td>23458</td>\n",
       "      <td>0.031318</td>\n",
       "      <td>1.267209</td>\n",
       "    </tr>\n",
       "    <tr>\n",
       "      <th>telephone</th>\n",
       "      <td>0.135708</td>\n",
       "      <td>2358</td>\n",
       "      <td>0.018505</td>\n",
       "      <td>1.157890</td>\n",
       "    </tr>\n",
       "    <tr>\n",
       "      <th>unknown</th>\n",
       "      <td>0.042021</td>\n",
       "      <td>10352</td>\n",
       "      <td>-0.075182</td>\n",
       "      <td>0.358530</td>\n",
       "    </tr>\n",
       "  </tbody>\n",
       "</table>\n",
       "</div>"
      ],
      "text/plain": [
       "               mean  count      diff      risk\n",
       "contact                                       \n",
       "cellular   0.148521  23458  0.031318  1.267209\n",
       "telephone  0.135708   2358  0.018505  1.157890\n",
       "unknown    0.042021  10352 -0.075182  0.358530"
      ]
     },
     "metadata": {},
     "output_type": "display_data"
    },
    {
     "name": "stdout",
     "output_type": "stream",
     "text": [
      "\n",
      "\n",
      "month\n"
     ]
    },
    {
     "data": {
      "text/html": [
       "<div>\n",
       "<style scoped>\n",
       "    .dataframe tbody tr th:only-of-type {\n",
       "        vertical-align: middle;\n",
       "    }\n",
       "\n",
       "    .dataframe tbody tr th {\n",
       "        vertical-align: top;\n",
       "    }\n",
       "\n",
       "    .dataframe thead th {\n",
       "        text-align: right;\n",
       "    }\n",
       "</style>\n",
       "<table border=\"1\" class=\"dataframe\">\n",
       "  <thead>\n",
       "    <tr style=\"text-align: right;\">\n",
       "      <th></th>\n",
       "      <th>mean</th>\n",
       "      <th>count</th>\n",
       "      <th>diff</th>\n",
       "      <th>risk</th>\n",
       "    </tr>\n",
       "    <tr>\n",
       "      <th>month</th>\n",
       "      <th></th>\n",
       "      <th></th>\n",
       "      <th></th>\n",
       "      <th></th>\n",
       "    </tr>\n",
       "  </thead>\n",
       "  <tbody>\n",
       "    <tr>\n",
       "      <th>apr</th>\n",
       "      <td>0.193674</td>\n",
       "      <td>2308</td>\n",
       "      <td>0.076471</td>\n",
       "      <td>1.652467</td>\n",
       "    </tr>\n",
       "    <tr>\n",
       "      <th>aug</th>\n",
       "      <td>0.109776</td>\n",
       "      <td>4992</td>\n",
       "      <td>-0.007427</td>\n",
       "      <td>0.936628</td>\n",
       "    </tr>\n",
       "    <tr>\n",
       "      <th>dec</th>\n",
       "      <td>0.469880</td>\n",
       "      <td>166</td>\n",
       "      <td>0.352676</td>\n",
       "      <td>4.009106</td>\n",
       "    </tr>\n",
       "    <tr>\n",
       "      <th>feb</th>\n",
       "      <td>0.162048</td>\n",
       "      <td>2129</td>\n",
       "      <td>0.044845</td>\n",
       "      <td>1.382625</td>\n",
       "    </tr>\n",
       "    <tr>\n",
       "      <th>jan</th>\n",
       "      <td>0.095707</td>\n",
       "      <td>1118</td>\n",
       "      <td>-0.021496</td>\n",
       "      <td>0.816588</td>\n",
       "    </tr>\n",
       "    <tr>\n",
       "      <th>jul</th>\n",
       "      <td>0.090240</td>\n",
       "      <td>5574</td>\n",
       "      <td>-0.026963</td>\n",
       "      <td>0.769949</td>\n",
       "    </tr>\n",
       "    <tr>\n",
       "      <th>jun</th>\n",
       "      <td>0.106089</td>\n",
       "      <td>4270</td>\n",
       "      <td>-0.011114</td>\n",
       "      <td>0.905173</td>\n",
       "    </tr>\n",
       "    <tr>\n",
       "      <th>mar</th>\n",
       "      <td>0.528150</td>\n",
       "      <td>373</td>\n",
       "      <td>0.410947</td>\n",
       "      <td>4.506283</td>\n",
       "    </tr>\n",
       "    <tr>\n",
       "      <th>may</th>\n",
       "      <td>0.067389</td>\n",
       "      <td>10981</td>\n",
       "      <td>-0.049814</td>\n",
       "      <td>0.574978</td>\n",
       "    </tr>\n",
       "    <tr>\n",
       "      <th>nov</th>\n",
       "      <td>0.103578</td>\n",
       "      <td>3186</td>\n",
       "      <td>-0.013625</td>\n",
       "      <td>0.883750</td>\n",
       "    </tr>\n",
       "    <tr>\n",
       "      <th>oct</th>\n",
       "      <td>0.454090</td>\n",
       "      <td>599</td>\n",
       "      <td>0.336887</td>\n",
       "      <td>3.874388</td>\n",
       "    </tr>\n",
       "    <tr>\n",
       "      <th>sep</th>\n",
       "      <td>0.463983</td>\n",
       "      <td>472</td>\n",
       "      <td>0.346780</td>\n",
       "      <td>3.958797</td>\n",
       "    </tr>\n",
       "  </tbody>\n",
       "</table>\n",
       "</div>"
      ],
      "text/plain": [
       "           mean  count      diff      risk\n",
       "month                                     \n",
       "apr    0.193674   2308  0.076471  1.652467\n",
       "aug    0.109776   4992 -0.007427  0.936628\n",
       "dec    0.469880    166  0.352676  4.009106\n",
       "feb    0.162048   2129  0.044845  1.382625\n",
       "jan    0.095707   1118 -0.021496  0.816588\n",
       "jul    0.090240   5574 -0.026963  0.769949\n",
       "jun    0.106089   4270 -0.011114  0.905173\n",
       "mar    0.528150    373  0.410947  4.506283\n",
       "may    0.067389  10981 -0.049814  0.574978\n",
       "nov    0.103578   3186 -0.013625  0.883750\n",
       "oct    0.454090    599  0.336887  3.874388\n",
       "sep    0.463983    472  0.346780  3.958797"
      ]
     },
     "metadata": {},
     "output_type": "display_data"
    },
    {
     "name": "stdout",
     "output_type": "stream",
     "text": [
      "\n",
      "\n",
      "poutcome\n"
     ]
    },
    {
     "data": {
      "text/html": [
       "<div>\n",
       "<style scoped>\n",
       "    .dataframe tbody tr th:only-of-type {\n",
       "        vertical-align: middle;\n",
       "    }\n",
       "\n",
       "    .dataframe tbody tr th {\n",
       "        vertical-align: top;\n",
       "    }\n",
       "\n",
       "    .dataframe thead th {\n",
       "        text-align: right;\n",
       "    }\n",
       "</style>\n",
       "<table border=\"1\" class=\"dataframe\">\n",
       "  <thead>\n",
       "    <tr style=\"text-align: right;\">\n",
       "      <th></th>\n",
       "      <th>mean</th>\n",
       "      <th>count</th>\n",
       "      <th>diff</th>\n",
       "      <th>risk</th>\n",
       "    </tr>\n",
       "    <tr>\n",
       "      <th>poutcome</th>\n",
       "      <th></th>\n",
       "      <th></th>\n",
       "      <th></th>\n",
       "      <th></th>\n",
       "    </tr>\n",
       "  </thead>\n",
       "  <tbody>\n",
       "    <tr>\n",
       "      <th>failure</th>\n",
       "      <td>0.126894</td>\n",
       "      <td>3893</td>\n",
       "      <td>0.009691</td>\n",
       "      <td>1.082689</td>\n",
       "    </tr>\n",
       "    <tr>\n",
       "      <th>other</th>\n",
       "      <td>0.162618</td>\n",
       "      <td>1482</td>\n",
       "      <td>0.045415</td>\n",
       "      <td>1.387490</td>\n",
       "    </tr>\n",
       "    <tr>\n",
       "      <th>success</th>\n",
       "      <td>0.646617</td>\n",
       "      <td>1197</td>\n",
       "      <td>0.529413</td>\n",
       "      <td>5.517062</td>\n",
       "    </tr>\n",
       "    <tr>\n",
       "      <th>unknown</th>\n",
       "      <td>0.092242</td>\n",
       "      <td>29596</td>\n",
       "      <td>-0.024961</td>\n",
       "      <td>0.787029</td>\n",
       "    </tr>\n",
       "  </tbody>\n",
       "</table>\n",
       "</div>"
      ],
      "text/plain": [
       "              mean  count      diff      risk\n",
       "poutcome                                     \n",
       "failure   0.126894   3893  0.009691  1.082689\n",
       "other     0.162618   1482  0.045415  1.387490\n",
       "success   0.646617   1197  0.529413  5.517062\n",
       "unknown   0.092242  29596 -0.024961  0.787029"
      ]
     },
     "metadata": {},
     "output_type": "display_data"
    },
    {
     "name": "stdout",
     "output_type": "stream",
     "text": [
      "\n",
      "\n"
     ]
    }
   ],
   "source": [
    "for c in categorical:\n",
    "    print(c)\n",
    "    df_group = df_full_train.groupby(c).subscribe.agg(['mean', 'count'])\n",
    "    df_group['diff'] = df_group['mean'] - global_subscribe\n",
    "    df_group['risk'] = df_group['mean'] / global_subscribe\n",
    "    display(df_group)\n",
    "    print()\n",
    "    print()"
   ]
  },
  {
   "cell_type": "markdown",
   "id": "bb3fcb3d",
   "metadata": {},
   "source": [
    "## Correlation"
   ]
  },
  {
   "cell_type": "code",
   "execution_count": 179,
   "id": "729bd595",
   "metadata": {},
   "outputs": [
    {
     "data": {
      "text/plain": [
       "subscribe    1.000000\n",
       "duration     0.398321\n",
       "housing      0.138466\n",
       "pdays        0.101045\n",
       "previous     0.087392\n",
       "campaing     0.072134\n",
       "loan         0.068288\n",
       "balance      0.055252\n",
       "day          0.030624\n",
       "default      0.025942\n",
       "age          0.024931\n",
       "dtype: float64"
      ]
     },
     "execution_count": 179,
     "metadata": {},
     "output_type": "execute_result"
    }
   ],
   "source": [
    "df_full_train[numerical].corrwith(df_full_train.subscribe).abs().sort_values(ascending=False)"
   ]
  },
  {
   "cell_type": "code",
   "execution_count": 175,
   "id": "05e323ac",
   "metadata": {},
   "outputs": [
    {
     "data": {
      "text/html": [
       "<div>\n",
       "<style scoped>\n",
       "    .dataframe tbody tr th:only-of-type {\n",
       "        vertical-align: middle;\n",
       "    }\n",
       "\n",
       "    .dataframe tbody tr th {\n",
       "        vertical-align: top;\n",
       "    }\n",
       "\n",
       "    .dataframe thead th {\n",
       "        text-align: right;\n",
       "    }\n",
       "</style>\n",
       "<table border=\"1\" class=\"dataframe\">\n",
       "  <thead>\n",
       "    <tr style=\"text-align: right;\">\n",
       "      <th></th>\n",
       "      <th>age</th>\n",
       "      <th>default</th>\n",
       "      <th>balance</th>\n",
       "      <th>housing</th>\n",
       "      <th>loan</th>\n",
       "      <th>day</th>\n",
       "      <th>duration</th>\n",
       "      <th>campaing</th>\n",
       "      <th>pdays</th>\n",
       "      <th>previous</th>\n",
       "      <th>subscribe</th>\n",
       "    </tr>\n",
       "  </thead>\n",
       "  <tbody>\n",
       "    <tr>\n",
       "      <th>age</th>\n",
       "      <td>1.000000</td>\n",
       "      <td>-0.016520</td>\n",
       "      <td>0.102596</td>\n",
       "      <td>-0.187465</td>\n",
       "      <td>-0.013923</td>\n",
       "      <td>-0.009180</td>\n",
       "      <td>-0.003643</td>\n",
       "      <td>0.006064</td>\n",
       "      <td>-0.025220</td>\n",
       "      <td>0.001319</td>\n",
       "      <td>0.024931</td>\n",
       "    </tr>\n",
       "    <tr>\n",
       "      <th>default</th>\n",
       "      <td>-0.016520</td>\n",
       "      <td>1.000000</td>\n",
       "      <td>-0.064948</td>\n",
       "      <td>-0.011470</td>\n",
       "      <td>0.076132</td>\n",
       "      <td>0.010840</td>\n",
       "      <td>-0.009994</td>\n",
       "      <td>0.022125</td>\n",
       "      <td>-0.029789</td>\n",
       "      <td>-0.017280</td>\n",
       "      <td>-0.025942</td>\n",
       "    </tr>\n",
       "    <tr>\n",
       "      <th>balance</th>\n",
       "      <td>0.102596</td>\n",
       "      <td>-0.064948</td>\n",
       "      <td>1.000000</td>\n",
       "      <td>-0.066956</td>\n",
       "      <td>-0.083514</td>\n",
       "      <td>0.001909</td>\n",
       "      <td>0.024720</td>\n",
       "      <td>-0.015093</td>\n",
       "      <td>0.002221</td>\n",
       "      <td>0.016354</td>\n",
       "      <td>0.055252</td>\n",
       "    </tr>\n",
       "    <tr>\n",
       "      <th>housing</th>\n",
       "      <td>-0.187465</td>\n",
       "      <td>-0.011470</td>\n",
       "      <td>-0.066956</td>\n",
       "      <td>1.000000</td>\n",
       "      <td>0.038663</td>\n",
       "      <td>-0.028040</td>\n",
       "      <td>0.005523</td>\n",
       "      <td>-0.023490</td>\n",
       "      <td>0.127134</td>\n",
       "      <td>0.039407</td>\n",
       "      <td>-0.138466</td>\n",
       "    </tr>\n",
       "    <tr>\n",
       "      <th>loan</th>\n",
       "      <td>-0.013923</td>\n",
       "      <td>0.076132</td>\n",
       "      <td>-0.083514</td>\n",
       "      <td>0.038663</td>\n",
       "      <td>1.000000</td>\n",
       "      <td>0.012666</td>\n",
       "      <td>-0.016454</td>\n",
       "      <td>0.012047</td>\n",
       "      <td>-0.025425</td>\n",
       "      <td>-0.012307</td>\n",
       "      <td>-0.068288</td>\n",
       "    </tr>\n",
       "    <tr>\n",
       "      <th>day</th>\n",
       "      <td>-0.009180</td>\n",
       "      <td>0.010840</td>\n",
       "      <td>0.001909</td>\n",
       "      <td>-0.028040</td>\n",
       "      <td>0.012666</td>\n",
       "      <td>1.000000</td>\n",
       "      <td>-0.030877</td>\n",
       "      <td>0.165652</td>\n",
       "      <td>-0.091869</td>\n",
       "      <td>-0.047050</td>\n",
       "      <td>-0.030624</td>\n",
       "    </tr>\n",
       "    <tr>\n",
       "      <th>duration</th>\n",
       "      <td>-0.003643</td>\n",
       "      <td>-0.009994</td>\n",
       "      <td>0.024720</td>\n",
       "      <td>0.005523</td>\n",
       "      <td>-0.016454</td>\n",
       "      <td>-0.030877</td>\n",
       "      <td>1.000000</td>\n",
       "      <td>-0.084098</td>\n",
       "      <td>-0.003927</td>\n",
       "      <td>0.001301</td>\n",
       "      <td>0.398321</td>\n",
       "    </tr>\n",
       "    <tr>\n",
       "      <th>campaing</th>\n",
       "      <td>0.006064</td>\n",
       "      <td>0.022125</td>\n",
       "      <td>-0.015093</td>\n",
       "      <td>-0.023490</td>\n",
       "      <td>0.012047</td>\n",
       "      <td>0.165652</td>\n",
       "      <td>-0.084098</td>\n",
       "      <td>1.000000</td>\n",
       "      <td>-0.088363</td>\n",
       "      <td>-0.031196</td>\n",
       "      <td>-0.072134</td>\n",
       "    </tr>\n",
       "    <tr>\n",
       "      <th>pdays</th>\n",
       "      <td>-0.025220</td>\n",
       "      <td>-0.029789</td>\n",
       "      <td>0.002221</td>\n",
       "      <td>0.127134</td>\n",
       "      <td>-0.025425</td>\n",
       "      <td>-0.091869</td>\n",
       "      <td>-0.003927</td>\n",
       "      <td>-0.088363</td>\n",
       "      <td>1.000000</td>\n",
       "      <td>0.437220</td>\n",
       "      <td>0.101045</td>\n",
       "    </tr>\n",
       "    <tr>\n",
       "      <th>previous</th>\n",
       "      <td>0.001319</td>\n",
       "      <td>-0.017280</td>\n",
       "      <td>0.016354</td>\n",
       "      <td>0.039407</td>\n",
       "      <td>-0.012307</td>\n",
       "      <td>-0.047050</td>\n",
       "      <td>0.001301</td>\n",
       "      <td>-0.031196</td>\n",
       "      <td>0.437220</td>\n",
       "      <td>1.000000</td>\n",
       "      <td>0.087392</td>\n",
       "    </tr>\n",
       "    <tr>\n",
       "      <th>subscribe</th>\n",
       "      <td>0.024931</td>\n",
       "      <td>-0.025942</td>\n",
       "      <td>0.055252</td>\n",
       "      <td>-0.138466</td>\n",
       "      <td>-0.068288</td>\n",
       "      <td>-0.030624</td>\n",
       "      <td>0.398321</td>\n",
       "      <td>-0.072134</td>\n",
       "      <td>0.101045</td>\n",
       "      <td>0.087392</td>\n",
       "      <td>1.000000</td>\n",
       "    </tr>\n",
       "  </tbody>\n",
       "</table>\n",
       "</div>"
      ],
      "text/plain": [
       "                age   default   balance   housing      loan       day  \\\n",
       "age        1.000000 -0.016520  0.102596 -0.187465 -0.013923 -0.009180   \n",
       "default   -0.016520  1.000000 -0.064948 -0.011470  0.076132  0.010840   \n",
       "balance    0.102596 -0.064948  1.000000 -0.066956 -0.083514  0.001909   \n",
       "housing   -0.187465 -0.011470 -0.066956  1.000000  0.038663 -0.028040   \n",
       "loan      -0.013923  0.076132 -0.083514  0.038663  1.000000  0.012666   \n",
       "day       -0.009180  0.010840  0.001909 -0.028040  0.012666  1.000000   \n",
       "duration  -0.003643 -0.009994  0.024720  0.005523 -0.016454 -0.030877   \n",
       "campaing   0.006064  0.022125 -0.015093 -0.023490  0.012047  0.165652   \n",
       "pdays     -0.025220 -0.029789  0.002221  0.127134 -0.025425 -0.091869   \n",
       "previous   0.001319 -0.017280  0.016354  0.039407 -0.012307 -0.047050   \n",
       "subscribe  0.024931 -0.025942  0.055252 -0.138466 -0.068288 -0.030624   \n",
       "\n",
       "           duration  campaing     pdays  previous  subscribe  \n",
       "age       -0.003643  0.006064 -0.025220  0.001319   0.024931  \n",
       "default   -0.009994  0.022125 -0.029789 -0.017280  -0.025942  \n",
       "balance    0.024720 -0.015093  0.002221  0.016354   0.055252  \n",
       "housing    0.005523 -0.023490  0.127134  0.039407  -0.138466  \n",
       "loan      -0.016454  0.012047 -0.025425 -0.012307  -0.068288  \n",
       "day       -0.030877  0.165652 -0.091869 -0.047050  -0.030624  \n",
       "duration   1.000000 -0.084098 -0.003927  0.001301   0.398321  \n",
       "campaing  -0.084098  1.000000 -0.088363 -0.031196  -0.072134  \n",
       "pdays     -0.003927 -0.088363  1.000000  0.437220   0.101045  \n",
       "previous   0.001301 -0.031196  0.437220  1.000000   0.087392  \n",
       "subscribe  0.398321 -0.072134  0.101045  0.087392   1.000000  "
      ]
     },
     "execution_count": 175,
     "metadata": {},
     "output_type": "execute_result"
    }
   ],
   "source": [
    "df_full_train[numerical].corr()"
   ]
  },
  {
   "cell_type": "code",
   "execution_count": 176,
   "id": "9948b1e2",
   "metadata": {},
   "outputs": [
    {
     "data": {
      "image/png": "[encoded data removed]",
      "text/plain": [
       "<Figure size 1080x720 with 2 Axes>"
      ]
     },
     "metadata": {
      "needs_background": "light"
     },
     "output_type": "display_data"
    }
   ],
   "source": [
    "plt.figure(figsize=(15, 10))\n",
    "sns.heatmap(df_full_train[numerical].corr(), annot=True, linewidths=.5, cmap=\"Blues\")\n",
    "plt.title('Heatmap showing correlations between numerical data')\n",
    "plt.show()"
   ]
  },
  {
   "cell_type": "markdown",
   "id": "169c7c02",
   "metadata": {},
   "source": [
    "## Model training"
   ]
  },
  {
   "cell_type": "markdown",
   "id": "5bf97834",
   "metadata": {},
   "source": [
    "I'll use logistic regression for solving this problem."
   ]
  },
  {
   "cell_type": "code",
   "execution_count": 180,
   "id": "6183ed3a",
   "metadata": {},
   "outputs": [],
   "source": [
    "from sklearn.feature_extraction import DictVectorizer\n",
    "from sklearn.linear_model import LogisticRegression"
   ]
  },
  {
   "cell_type": "code",
   "execution_count": 240,
   "id": "d6e27c72",
   "metadata": {},
   "outputs": [
    {
     "data": {
      "text/plain": [
       "['age', 'balance', 'day', 'duration', 'campaing', 'pdays', 'previous']"
      ]
     },
     "execution_count": 240,
     "metadata": {},
     "output_type": "execute_result"
    }
   ],
   "source": [
    "numerical = list(df_train.columns[df_train.dtypes != 'object'])\n",
    "numerical"
   ]
  },
  {
   "cell_type": "code",
   "execution_count": 252,
   "id": "f960429f",
   "metadata": {},
   "outputs": [],
   "source": [
    "def train(df_train, y_train, C=1.0):\n",
    "    dv = DictVectorizer(sparse=False)\n",
    "\n",
    "    train_dict = df_train[categorical + numerical].to_dict(orient='records')\n",
    "    X_train = dv.fit_transform(train_dict)\n",
    "\n",
    "    model = LogisticRegression(C=C, max_iter=10000)\n",
    "    model.fit(X_train, y_train)\n",
    "    \n",
    "    return dv, model"
   ]
  },
  {
   "cell_type": "code",
   "execution_count": 248,
   "id": "8fd978f0",
   "metadata": {},
   "outputs": [],
   "source": [
    "def predict(df, dv, model):\n",
    "    val_dict = df_val[categorical + numerical].to_dict(orient='records')\n",
    "    X_val = dv.transform(val_dict)\n",
    "\n",
    "    y_pred = model.predict_proba(X_val)[:, 1]\n",
    "    return y_pred"
   ]
  },
  {
   "cell_type": "code",
   "execution_count": 253,
   "id": "494cae1d",
   "metadata": {},
   "outputs": [
    {
     "name": "stdout",
     "output_type": "stream",
     "text": [
      "C=0.001 0.860\n",
      "C=0.01 0.896\n",
      "C=0.1 0.898\n",
      "C=0.5 0.901\n",
      "C=1 0.900\n",
      "C=5 0.900\n",
      "C=10 0.897\n"
     ]
    }
   ],
   "source": [
    "for C in [0.001, 0.01, 0.1, 0.5, 1, 5, 10]:\n",
    "    dv, model = train(df_train, y_train, C=C)\n",
    "    y_pred = predict(df_val, dv, model)\n",
    "    \n",
    "    auc = roc_auc_score(y_val, y_pred)\n",
    "    \n",
    "    print('C=%s %.3f' % (C, auc))"
   ]
  },
  {
   "cell_type": "markdown",
   "id": "25efc46d",
   "metadata": {},
   "source": [
    "I have choosen the best score which is 0.5."
   ]
  },
  {
   "cell_type": "code",
   "execution_count": 257,
   "id": "eb420ada",
   "metadata": {},
   "outputs": [
    {
     "data": {
      "text/plain": [
       "0.9013917091773562"
      ]
     },
     "execution_count": 257,
     "metadata": {},
     "output_type": "execute_result"
    }
   ],
   "source": [
    "dv, model = train(df_train, y_train, C=0.5)\n",
    "y_pred = predict(df_val, dv, model)\n",
    "\n",
    "auc = roc_auc_score(y_val, y_pred)\n",
    "auc"
   ]
  },
  {
   "cell_type": "markdown",
   "id": "8fb3ff5c",
   "metadata": {},
   "source": [
    "Looks like I have a quiet good model. But it has all the features and need time to train and evaluate. "
   ]
  },
  {
   "cell_type": "markdown",
   "id": "a2cdea20",
   "metadata": {},
   "source": [
    "I have choosen features with bigger correlation and features with bigger difference of subscribe score aginst general. I have done this to make the model smaller."
   ]
  },
  {
   "cell_type": "code",
   "execution_count": 277,
   "id": "1c80b5f2",
   "metadata": {},
   "outputs": [],
   "source": [
    "small_numerical = ['duration']\n",
    "small_categorical = ['job', 'month', 'poutcome', 'housing']"
   ]
  },
  {
   "cell_type": "code",
   "execution_count": 280,
   "id": "bcf91e2b",
   "metadata": {},
   "outputs": [
    {
     "name": "stdout",
     "output_type": "stream",
     "text": [
      "C=0.001 0.879\n",
      "C=0.01 0.898\n",
      "C=0.1 0.902\n",
      "C=0.5 0.903\n",
      "C=1 0.902\n",
      "C=5 0.903\n",
      "C=10 0.903\n"
     ]
    }
   ],
   "source": [
    "for C in [0.001, 0.01, 0.1, 0.5, 1, 5, 10]:\n",
    "    dv = DictVectorizer(sparse=False)\n",
    "\n",
    "    train_dict = df_train[small_numerical + small_categorical].to_dict(orient='records')\n",
    "    X_train = dv.fit_transform(train_dict)\n",
    "\n",
    "    model = LogisticRegression(C=C, max_iter=10000)\n",
    "    model.fit(X_train, y_train)\n",
    "\n",
    "    val_dict = df_val[small_numerical + small_categorical].to_dict(orient='records')\n",
    "    X_val = dv.transform(val_dict)\n",
    "\n",
    "    y_pred = model.predict_proba(X_val)[:, 1]\n",
    "\n",
    "    auc = roc_auc_score(y_val, y_pred)\n",
    "    auc\n",
    "    print('C=%s %.3f' % (C, auc))"
   ]
  },
  {
   "cell_type": "markdown",
   "id": "6fa3aa10",
   "metadata": {},
   "source": [
    "I have tried to train model with smaller number of features and it shows almost the same scores. And works much faster than first one."
   ]
  },
  {
   "cell_type": "code",
   "execution_count": 281,
   "id": "582f9875",
   "metadata": {},
   "outputs": [],
   "source": [
    "def train(df_train, y_train, C=1.0):\n",
    "    dv = DictVectorizer(sparse=False)\n",
    "\n",
    "    train_dict = df_train[small_numerical + small_categorical].to_dict(orient='records')\n",
    "    X_train = dv.fit_transform(train_dict)\n",
    "\n",
    "    model = LogisticRegression(C=C, max_iter=10000)\n",
    "    model.fit(X_train, y_train)\n",
    "    \n",
    "    return dv, model"
   ]
  },
  {
   "cell_type": "code",
   "execution_count": 282,
   "id": "77c00710",
   "metadata": {},
   "outputs": [],
   "source": [
    "def predict(df, dv, model):\n",
    "    val_dict = df_val[small_numerical + small_categorical].to_dict(orient='records')\n",
    "    X_val = dv.transform(val_dict)\n",
    "\n",
    "    y_pred = model.predict_proba(X_val)[:, 1]\n",
    "    return y_pred"
   ]
  },
  {
   "cell_type": "markdown",
   "id": "4b7b8d7e",
   "metadata": {},
   "source": [
    "### Cross-Validation"
   ]
  },
  {
   "cell_type": "code",
   "execution_count": 270,
   "id": "8195b8dd",
   "metadata": {},
   "outputs": [
    {
     "name": "stdout",
     "output_type": "stream",
     "text": [
      "Collecting tqdm\n",
      "  Using cached tqdm-4.62.3-py2.py3-none-any.whl (76 kB)\n",
      "Installing collected packages: tqdm\n",
      "Successfully installed tqdm-4.62.3\n"
     ]
    }
   ],
   "source": [
    "!pip install tqdm"
   ]
  },
  {
   "cell_type": "code",
   "execution_count": 271,
   "id": "7e2fc3c1",
   "metadata": {},
   "outputs": [],
   "source": [
    "from sklearn.model_selection import KFold\n",
    "from tqdm.auto import tqdm"
   ]
  },
  {
   "cell_type": "code",
   "execution_count": 283,
   "id": "2732b97b",
   "metadata": {},
   "outputs": [
    {
     "data": {
      "application/vnd.jupyter.widget-view+json": {
       "model_id": "464c3c367e2a44a4a69fe96a7b2ec4a3",
       "version_major": 2,
       "version_minor": 0
      },
      "text/plain": [
       "0it [00:00, ?it/s]"
      ]
     },
     "metadata": {},
     "output_type": "display_data"
    },
    {
     "data": {
      "text/plain": [
       "[0.8911908582684711,\n",
       " 0.8948366847137287,\n",
       " 0.9063274606802031,\n",
       " 0.9041661570536401,\n",
       " 0.9029619649532366]"
      ]
     },
     "execution_count": 283,
     "metadata": {},
     "output_type": "execute_result"
    }
   ],
   "source": [
    "n_splits = 5\n",
    "\n",
    "kfold = KFold(n_splits=n_splits, shuffle=True, random_state=1)\n",
    "scores = []\n",
    "\n",
    "for train_idx, val_idx in tqdm(kfold.split(df_full_train)):\n",
    "    df_train = df_full_train.iloc[train_idx]\n",
    "    df_val = df_full_train.iloc[val_idx]\n",
    "    \n",
    "    y_train = df_train.subscribe.values\n",
    "    y_val = df_val.subscribe.values\n",
    "    \n",
    "    dv, model = train(df_train, y_train, C=0.5)\n",
    "    y_pred = predict(df_val, dv, model)\n",
    "    \n",
    "    auc = roc_auc_score(y_val, y_pred)\n",
    "    scores.append(auc)\n",
    "    \n",
    "scores"
   ]
  },
  {
   "cell_type": "markdown",
   "id": "6be93e13",
   "metadata": {},
   "source": [
    "So the model passed cross-validation test which means that it's stable and we can use it."
   ]
  },
  {
   "cell_type": "code",
   "execution_count": 199,
   "id": "3490c91c",
   "metadata": {},
   "outputs": [],
   "source": [
    "from sklearn.metrics import roc_auc_score\n",
    "from sklearn.metrics import roc_curve"
   ]
  },
  {
   "cell_type": "code",
   "execution_count": 258,
   "id": "4cb76ed2",
   "metadata": {},
   "outputs": [],
   "source": [
    "fpr, tpr, thresholds = roc_curve(y_val, y_pred)"
   ]
  },
  {
   "cell_type": "code",
   "execution_count": 259,
   "id": "633256d3",
   "metadata": {},
   "outputs": [
    {
     "data": {
      "text/plain": [
       "<matplotlib.legend.Legend at 0x7f83618dbd90>"
      ]
     },
     "execution_count": 259,
     "metadata": {},
     "output_type": "execute_result"
    },
    {
     "data": {
      "image/png": "[encoded data removed]",
      "text/plain": [
       "<Figure size 360x360 with 1 Axes>"
      ]
     },
     "metadata": {
      "needs_background": "light"
     },
     "output_type": "display_data"
    }
   ],
   "source": [
    "plt.figure(figsize=(5, 5))\n",
    "\n",
    "plt.plot(fpr, tpr, label='Model')\n",
    "plt.plot([0, 1], [0, 1], label='Random', linestyle='--')\n",
    "\n",
    "plt.xlabel('FPR')\n",
    "plt.ylabel('TPR')\n",
    "\n",
    "plt.legend()"
   ]
  },
  {
   "cell_type": "markdown",
   "id": "fce45e9e",
   "metadata": {},
   "source": [
    "Also the plot shows auc score."
   ]
  },
  {
   "cell_type": "markdown",
   "id": "f91b83f6",
   "metadata": {},
   "source": [
    "## Test request"
   ]
  },
  {
   "cell_type": "code",
   "execution_count": 293,
   "id": "461f014f",
   "metadata": {},
   "outputs": [],
   "source": [
    "import requests"
   ]
  },
  {
   "cell_type": "code",
   "execution_count": 294,
   "id": "c8c44cd6",
   "metadata": {},
   "outputs": [],
   "source": [
    "url = 'http://localhost:9696/predict'"
   ]
  },
  {
   "cell_type": "code",
   "execution_count": 307,
   "id": "6bcc687a",
   "metadata": {},
   "outputs": [],
   "source": [
    "customer = {\n",
    "    'age': 58,\n",
    "    'job': 'management',\n",
    "    'marital': 'married',\n",
    "    'education': 'tertiary',\n",
    "    'default': 'no',\n",
    "    'balance': 2143,\n",
    "    'housing': 'no',\n",
    "    'loan': 'no',\n",
    "    'contact': 'unknown',\n",
    "    'day': 5,\n",
    "    'month': 'may',\n",
    "    'duration': 261,\n",
    "    'campaing': 1,\n",
    "    'pdays': -1,\n",
    "    'previous': 0,\n",
    "    'poutcome': 'unknown',\n",
    "    'subscribe': 0\n",
    "}"
   ]
  },
  {
   "cell_type": "code",
   "execution_count": 308,
   "id": "98367c48",
   "metadata": {},
   "outputs": [],
   "source": [
    "response = requests.post(url, json=customer).json()"
   ]
  },
  {
   "cell_type": "code",
   "execution_count": 309,
   "id": "730d32a5",
   "metadata": {},
   "outputs": [
    {
     "data": {
      "text/plain": [
       "{'subscibre': False, 'subscribe_probability': 0.07637675487020713}"
      ]
     },
     "execution_count": 309,
     "metadata": {},
     "output_type": "execute_result"
    }
   ],
   "source": [
    "response"
   ]
  }
 ],
 "metadata": {
  "kernelspec": {
   "display_name": "Python 3 (ipykernel)",
   "language": "python",
   "name": "python3"
  },
  "language_info": {
   "codemirror_mode": {
    "name": "ipython",
    "version": 3
   },
   "file_extension": ".py",
   "mimetype": "text/x-python",
   "name": "python",
   "nbconvert_exporter": "python",
   "pygments_lexer": "ipython3",
   "version": "3.8.11"
  }
 },
 "nbformat": 4,
 "nbformat_minor": 5
}
